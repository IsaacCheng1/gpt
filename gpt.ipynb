{
  "nbformat": 4,
  "nbformat_minor": 0,
  "metadata": {
    "colab": {
      "provenance": [],
      "toc_visible": true,
      "gpuType": "T4"
    },
    "kernelspec": {
      "name": "python3",
      "display_name": "Python 3"
    },
    "language_info": {
      "name": "python"
    },
    "accelerator": "GPU"
  },
  "cells": [
    {
      "cell_type": "code",
      "source": [
        "import torch\n",
        "import torch.nn as nn\n",
        "from torch.nn import functional as F\n",
        "torch.manual_seed(1337)\n",
        "\n",
        "device = 'cuda' if torch.cuda.is_available() else 'cpu'"
      ],
      "metadata": {
        "id": "CsnUN0sNHHz0"
      },
      "execution_count": 1,
      "outputs": []
    },
    {
      "cell_type": "markdown",
      "source": [
        "#### 1. Dataset\n",
        "Let's prepare our dataset."
      ],
      "metadata": {
        "id": "KQKhWle9HKCj"
      }
    },
    {
      "cell_type": "code",
      "source": [
        "# download Shakespeare\n",
        "!wget https://raw.githubusercontent.com/karpathy/char-rnn/master/data/tinyshakespeare/input.txt"
      ],
      "metadata": {
        "colab": {
          "base_uri": "https://localhost:8080/"
        },
        "id": "uSSyVMnrHfoW",
        "outputId": "03fea380-6fd1-47b1-c7cd-4cd4fd011d2d"
      },
      "execution_count": 2,
      "outputs": [
        {
          "output_type": "stream",
          "name": "stdout",
          "text": [
            "--2024-07-12 22:13:13--  https://raw.githubusercontent.com/karpathy/char-rnn/master/data/tinyshakespeare/input.txt\n",
            "Resolving raw.githubusercontent.com (raw.githubusercontent.com)... 185.199.108.133, 185.199.109.133, 185.199.110.133, ...\n",
            "Connecting to raw.githubusercontent.com (raw.githubusercontent.com)|185.199.108.133|:443... connected.\n",
            "HTTP request sent, awaiting response... 200 OK\n",
            "Length: 1115394 (1.1M) [text/plain]\n",
            "Saving to: ‘input.txt’\n",
            "\n",
            "\rinput.txt             0%[                    ]       0  --.-KB/s               \rinput.txt           100%[===================>]   1.06M  --.-KB/s    in 0.02s   \n",
            "\n",
            "2024-07-12 22:13:13 (44.2 MB/s) - ‘input.txt’ saved [1115394/1115394]\n",
            "\n"
          ]
        }
      ]
    },
    {
      "cell_type": "code",
      "source": [
        "torch.manual_seed(1337)\n",
        "\n",
        "class DataSet():\n",
        "    def __init__(self):\n",
        "        with open('input.txt', 'r', encoding='utf-8') as f:\n",
        "            text = f.read()\n",
        "\n",
        "        chars = sorted(list(set(text)))\n",
        "        self.vocab_size = len(chars)\n",
        "\n",
        "        # 1. encode: take a string, output a list of integers\n",
        "        ctoi = {ch:i for i, ch in enumerate(chars)}\n",
        "        encode = lambda s : [ ctoi[ch] for ch in s]\n",
        "\n",
        "        # 2. decode: take a list of integers, output a string\n",
        "        itoc = {i:ch for i, ch in enumerate(chars)}\n",
        "        self.decode = lambda l : ''.join([ itoc[i] for i in l])\n",
        "\n",
        "        # 3. encode the entire text and store it in a torch.Tensor\n",
        "        self.data = encode(text)\n",
        "        self.data = torch.tensor(self.data, dtype=torch.long)\n",
        "\n",
        "    def __getitem__(self, idx):\n",
        "        \"\"\"given an idx, return a sample of the DataSet at this given idx\"\"\"\n",
        "        return self.data[idx]\n",
        "\n",
        "    def train_dataset(self):\n",
        "        n = int(0.9*len(self.data))\n",
        "        return self.data[:n]\n",
        "\n",
        "    def val_dataset(self):\n",
        "        n = int(0.9*len(self.data))\n",
        "        return self.data[n:]"
      ],
      "metadata": {
        "id": "VLti-3ikHuen"
      },
      "execution_count": 16,
      "outputs": []
    },
    {
      "cell_type": "markdown",
      "source": [
        "#### 2. DataLoader\n",
        "DataLoader randomly samples mini-batches from DataSet."
      ],
      "metadata": {
        "id": "AHshd4XeS7Xz"
      }
    },
    {
      "cell_type": "code",
      "source": [
        "torch.manual_seed(1337)\n",
        "\n",
        "class DataLoader:\n",
        "    def __init__(self, dataset, batch_size=4, block_size=8):\n",
        "        self.dataset = dataset\n",
        "        self.batch_size = batch_size\n",
        "        self.block_size = block_size\n",
        "\n",
        "    def get_batch(self, split):\n",
        "\n",
        "        data = self.dataset.train_dataset() if split == 'train' else self.dataset.val_dataset()\n",
        "\n",
        "        # generate a tensor with random numbers\n",
        "        idx = torch.randint(len(data) - self.block_size, (self.batch_size,))\n",
        "\n",
        "        x = torch.stack([data[i:i+self.block_size] for i in idx])\n",
        "        y = torch.stack([data[i+1:i+self.block_size+1] for i in idx])\n",
        "        x, y = x.to(device), y.to(device)\n",
        "        return x, y"
      ],
      "metadata": {
        "id": "staU4U-cTNQ3"
      },
      "execution_count": 4,
      "outputs": []
    },
    {
      "cell_type": "markdown",
      "source": [
        "#### 3. GPT\n",
        "let's build a GPT from scratch."
      ],
      "metadata": {
        "id": "2L1i_HCmVzvX"
      }
    },
    {
      "cell_type": "code",
      "source": [
        "# in the code comment,\n",
        "# B, stands for batch_size\n",
        "# T, stands for block_size\n",
        "# C, stands for embedding size (i.e. n_embd)\n",
        "\n",
        "class Head(nn.Module):\n",
        "    \"\"\"one head of self-attention\"\"\"\n",
        "    def __init__(self, n_embd, head_size, block_size, dropout):\n",
        "        super().__init__()\n",
        "\n",
        "        # note 1: weight initialization is important. it happens inside nn.Linear(...) module\n",
        "        # note 2: n_embd is the size of each embedding vector\n",
        "        self.key = nn.Linear(n_embd, head_size, bias=False)\n",
        "        self.query = nn.Linear(n_embd, head_size, bias=False)\n",
        "        self.value = nn.Linear(n_embd, head_size, bias=False)\n",
        "\n",
        "        self.register_buffer('tril', torch.tril(torch.ones(block_size, block_size)))\n",
        "\n",
        "        # regularization\n",
        "        self.dropout = nn.Dropout(dropout)\n",
        "\n",
        "    def forward(self, x):\n",
        "        # x is of (B, T, C)\n",
        "\n",
        "        B,T,C = x.shape\n",
        "\n",
        "        # k is what this token contains\n",
        "        k = self.key(x)   # (B,T,C)\n",
        "\n",
        "        # q is what this token is looking for\n",
        "        q = self.query(x) # (B,T,C)\n",
        "\n",
        "        # compute attention score.\n",
        "        # attention score is \"affinity\"\n",
        "        wei = q @ k.transpose(-2, -1) * C**-0.5 # (B, T, T)\n",
        "\n",
        "        # mask, so that a token can't see the future (i.e. a token can attend to the tokens before it)\n",
        "        wei = wei.masked_fill(self.tril[:T, :T] == 0, float('-inf')) # (B, T, T)\n",
        "\n",
        "        wei = F.softmax(wei, dim=-1) # (B, T, T)\n",
        "\n",
        "        # drop out\n",
        "        wei = self.dropout(wei)\n",
        "\n",
        "        v = self.value(x) # (B, T, C)\n",
        "\n",
        "        # perform the weighted aggregation of the values\n",
        "        out = wei @ v # (B, T, C)\n",
        "\n",
        "        return out"
      ],
      "metadata": {
        "id": "csN8Z7KbWVzp"
      },
      "execution_count": 5,
      "outputs": []
    },
    {
      "cell_type": "code",
      "source": [
        "class MultiHeadAttention(nn.Module):\n",
        "    \"\"\"multiple heads of self-attention in parallel\"\"\"\n",
        "\n",
        "    def __init__(self, num_heads, n_embd, head_size, block_size, dropout):\n",
        "        super().__init__()\n",
        "\n",
        "        self.heads = nn.ModuleList([ Head(n_embd, head_size, block_size, dropout) for _ in range(num_heads)])\n",
        "\n",
        "        # pre-condition: head_size * num_heads == n_embd\n",
        "        self.proj = nn.Linear(n_embd, n_embd) # the projection layer going back to the residual pathway\n",
        "\n",
        "        self.dropout = nn.Dropout(dropout)\n",
        "\n",
        "    def forward(self, x):\n",
        "        out = torch.cat([h(x) for h in self.heads], dim=-1)\n",
        "        out = self.dropout(self.proj(out))\n",
        "        return out\n"
      ],
      "metadata": {
        "id": "Oiq92I2_jMur"
      },
      "execution_count": 6,
      "outputs": []
    },
    {
      "cell_type": "code",
      "source": [
        "class FeedForward(nn.Module):\n",
        "    \"\"\" a simple linear layer followed by a non-linearity \"\"\"\n",
        "    def __init__(self, n_embd, dropout):\n",
        "        super().__init__()\n",
        "        self.net = nn.Sequential(\n",
        "            nn.Linear(n_embd, 4 * n_embd),\n",
        "            nn.ReLU(),\n",
        "            nn.Linear(4 * n_embd, n_embd), # the projection layer going back to the residual pathway\n",
        "            nn.Dropout(dropout),\n",
        "        )\n",
        "\n",
        "    def forward(self, x):\n",
        "        return self.net(x)"
      ],
      "metadata": {
        "id": "jlee21epkmGC"
      },
      "execution_count": 7,
      "outputs": []
    },
    {
      "cell_type": "code",
      "source": [
        "class Block(nn.Module):\n",
        "    \"\"\" Transformer block: communication followed by computation \"\"\"\n",
        "\n",
        "    def __init__(self, num_heads, n_embd, block_size, dropout):\n",
        "        super().__init__()\n",
        "        head_size = n_embd // num_heads\n",
        "        self.sa = MultiHeadAttention(num_heads, n_embd, head_size, block_size, dropout) # communication\n",
        "\n",
        "        # LayerNorm (critial for optimization)\n",
        "        self.ln1 = nn.LayerNorm(n_embd)\n",
        "\n",
        "        self.ffwd = FeedForward(n_embd, dropout) # computation\n",
        "\n",
        "        # LayerNorm (critial for optimization)\n",
        "        self.ln2 = nn.LayerNorm(n_embd)\n",
        "\n",
        "    def forward(self, x):\n",
        "        x = x + self.sa(self.ln1(x)) # Residual Connection applies here\n",
        "        x = x + self.ffwd(self.ln2(x))  # Residual Connection applies here\n",
        "        return x"
      ],
      "metadata": {
        "id": "E6c-QpYhlB4g"
      },
      "execution_count": 8,
      "outputs": []
    },
    {
      "cell_type": "code",
      "source": [
        "class GPT(nn.Module):\n",
        "\n",
        "    def __init__(self, vocab_size, num_heads, n_embd, block_size, dropout, n_layer):\n",
        "        super().__init__()\n",
        "\n",
        "        self.token_embedding_table = nn.Embedding(vocab_size, n_embd)\n",
        "\n",
        "        # note: the block_size needs to be defined, for position embedding table\n",
        "        self.position_embedding_table = nn.Embedding(block_size, n_embd)\n",
        "\n",
        "        self.blocks = nn.Sequential(*[Block(num_heads, n_embd, block_size, dropout) for _ in range(n_layer)])\n",
        "\n",
        "        self.ln_f = nn.LayerNorm(n_embd) # final layer norm\n",
        "\n",
        "        self.lm_head = nn.Linear(n_embd, vocab_size)\n",
        "\n",
        "\n",
        "    def forward(self, idx, targets=None):\n",
        "        B, T = idx.shape\n",
        "\n",
        "        tok_emb = self.token_embedding_table(idx) # (B,T,C)\n",
        "\n",
        "        pos_emb = self.position_embedding_table(torch.arange(T, device=device)) # (T,C)\n",
        "\n",
        "        x = tok_emb + pos_emb # (B,T,C)\n",
        "        x = self.blocks(x) # (B,T,C)\n",
        "        x = self.ln_f(x) # (B,T,C)\n",
        "        logits = self.lm_head(x) # (B,T,vocab_size)\n",
        "\n",
        "        if targets is None:\n",
        "            loss = None\n",
        "        else:\n",
        "            B, T, C = logits.shape\n",
        "            logits = logits.view(B*T, C)\n",
        "            targets = targets.view(B*T)\n",
        "            loss = F.cross_entropy(logits, targets)\n",
        "\n",
        "        return logits, loss\n",
        "\n",
        "    def generate(self, idx, max_new_tokens):\n",
        "        # idx is (B, T) array of indices in the current context\n",
        "        for _ in range(max_new_tokens):\n",
        "            # crop idx to the last block_size tokens\n",
        "            idx_cond = idx[:, -block_size:]\n",
        "            # get the predictions\n",
        "            logits, loss = self(idx_cond)\n",
        "            # focus only on the last time step\n",
        "            logits = logits[:, -1, :] # becomes (B, C)\n",
        "            # apply softmax to get probabilities\n",
        "            probs = F.softmax(logits, dim=-1) # (B, C)\n",
        "            # sample from the distribution\n",
        "            idx_next = torch.multinomial(probs, num_samples=1) # (B, 1)\n",
        "            # append sampled index to the running sequence\n",
        "            idx = torch.cat((idx, idx_next), dim=1) # (B, T+1)\n",
        "        return idx"
      ],
      "metadata": {
        "id": "wyDy5QfAsPQW"
      },
      "execution_count": 9,
      "outputs": []
    },
    {
      "cell_type": "markdown",
      "source": [
        "#### 4. Train GPT\n",
        "let's train it."
      ],
      "metadata": {
        "id": "WexSOMPquuMJ"
      }
    },
    {
      "cell_type": "code",
      "source": [
        "batch_size = 16\n",
        "block_size = 32\n",
        "num_heads = 4\n",
        "n_embd = 64\n",
        "block_size = 32\n",
        "dropout = 0.0\n",
        "n_layer = 4\n",
        "learning_rate = 1e-3\n",
        "epochs = 5000\n",
        "eval_interval = 100\n",
        "eval_iters = 200\n",
        "\n",
        "# 1. create a DataLoader\n",
        "dataset = DataSet()\n",
        "vocab_size = dataset.vocab_size\n",
        "dataloader = DataLoader(dataset, batch_size, block_size)\n",
        "\n",
        "# 2. create a GPT\n",
        "gpt = GPT(vocab_size, num_heads, n_embd, block_size, dropout, n_layer)\n",
        "gpt = gpt.to(device) # move the model's parameters to device\n",
        "\n",
        "# print the number of parameters in the model\n",
        "print(sum(p.numel() for p in gpt.parameters())/1e6, 'M parameters')\n",
        "\n",
        "# 3. create a Optimizer\n",
        "optimizer = torch.optim.AdamW(gpt.parameters(), lr=learning_rate)\n",
        "\n",
        "# 4. create an epoch function, which takes dataloader, gpt model, and optimizer, then run 1 epoch\n",
        "def epoch(dataloader, gpt, optimizer):\n",
        "    # sample a batch of data\n",
        "    xb, yb = dataloader.get_batch('train')\n",
        "\n",
        "    # forward\n",
        "    logits, loss = gpt(xb, yb)\n",
        "\n",
        "    # clear out the previous gradient, if there is any\n",
        "    optimizer.zero_grad(set_to_none=True)\n",
        "\n",
        "    # backward\n",
        "    loss.backward()\n",
        "\n",
        "    # update paramaters\n",
        "    optimizer.step()\n",
        "\n",
        "# 5. train\n",
        "\n",
        "# tell torch's manager that everything inside this code block, we will never call backward()\n",
        "# so that torch will not store all the intermediate variables, so it is a lot of memory efficient\n",
        "@torch.no_grad()\n",
        "def estimate_loss():\n",
        "    # average up the loss average multiple batches (i.e. eval_iters)\n",
        "    out = {}\n",
        "    gpt.eval()\n",
        "    for split in ['train', 'val']:\n",
        "        losses = torch.zeros(eval_iters)\n",
        "        for k in range(eval_iters):\n",
        "            X, Y = dataloader.get_batch(split)\n",
        "            logits, loss = gpt(X, Y)\n",
        "            losses[k] = loss.item()\n",
        "        out[split] = losses.mean()\n",
        "    gpt.train()\n",
        "    return out\n",
        "\n",
        "for iter in range(epochs):\n",
        "    # every once in a while evaluate the loss on train and val sets\n",
        "    if iter % eval_interval == 0 or iter == epochs - 1:\n",
        "        losses = estimate_loss()\n",
        "        print(f\"step {iter}: train loss {losses['train']:.4f}, val loss {losses['val']:.4f}\")\n",
        "\n",
        "    epoch(dataloader, gpt, optimizer)\n"
      ],
      "metadata": {
        "colab": {
          "base_uri": "https://localhost:8080/",
          "height": 1000
        },
        "id": "z8JgK0cAuwj8",
        "outputId": "27a44b66-50f8-48b6-eadc-ff7a76d3a33a"
      },
      "execution_count": 10,
      "outputs": [
        {
          "output_type": "stream",
          "name": "stdout",
          "text": [
            "0.209729 M parameters\n",
            "step 0: train loss 4.4116, val loss 4.4022\n",
            "step 100: train loss 2.6568, val loss 2.6670\n",
            "step 200: train loss 2.5091, val loss 2.5058\n",
            "step 300: train loss 2.4197, val loss 2.4336\n",
            "step 400: train loss 2.3501, val loss 2.3562\n",
            "step 500: train loss 2.2963, val loss 2.3125\n",
            "step 600: train loss 2.2407, val loss 2.2496\n",
            "step 700: train loss 2.2054, val loss 2.2187\n",
            "step 800: train loss 2.1633, val loss 2.1866\n",
            "step 900: train loss 2.1241, val loss 2.1504\n",
            "step 1000: train loss 2.1036, val loss 2.1306\n",
            "step 1100: train loss 2.0698, val loss 2.1180\n",
            "step 1200: train loss 2.0380, val loss 2.0791\n",
            "step 1300: train loss 2.0248, val loss 2.0634\n",
            "step 1400: train loss 1.9926, val loss 2.0359\n",
            "step 1500: train loss 1.9697, val loss 2.0287\n",
            "step 1600: train loss 1.9627, val loss 2.0477\n",
            "step 1700: train loss 1.9403, val loss 2.0115\n",
            "step 1800: train loss 1.9090, val loss 1.9941\n",
            "step 1900: train loss 1.9092, val loss 1.9858\n",
            "step 2000: train loss 1.8847, val loss 1.9925\n",
            "step 2100: train loss 1.8724, val loss 1.9757\n",
            "step 2200: train loss 1.8580, val loss 1.9594\n",
            "step 2300: train loss 1.8560, val loss 1.9537\n",
            "step 2400: train loss 1.8412, val loss 1.9427\n",
            "step 2500: train loss 1.8141, val loss 1.9402\n",
            "step 2600: train loss 1.8292, val loss 1.9397\n",
            "step 2700: train loss 1.8116, val loss 1.9322\n",
            "step 2800: train loss 1.8032, val loss 1.9218\n",
            "step 2900: train loss 1.8022, val loss 1.9285\n",
            "step 3000: train loss 1.7955, val loss 1.9195\n",
            "step 3100: train loss 1.7672, val loss 1.9192\n",
            "step 3200: train loss 1.7568, val loss 1.9138\n",
            "step 3300: train loss 1.7551, val loss 1.9059\n",
            "step 3400: train loss 1.7549, val loss 1.8945\n",
            "step 3500: train loss 1.7383, val loss 1.8956\n",
            "step 3600: train loss 1.7242, val loss 1.8868\n",
            "step 3700: train loss 1.7273, val loss 1.8822\n",
            "step 3800: train loss 1.7176, val loss 1.8923\n",
            "step 3900: train loss 1.7219, val loss 1.8750\n",
            "step 4000: train loss 1.7131, val loss 1.8603\n",
            "step 4100: train loss 1.7105, val loss 1.8777\n",
            "step 4200: train loss 1.7033, val loss 1.8675\n",
            "step 4300: train loss 1.7038, val loss 1.8556\n",
            "step 4400: train loss 1.7057, val loss 1.8643\n",
            "step 4500: train loss 1.6875, val loss 1.8528\n",
            "step 4600: train loss 1.6887, val loss 1.8405\n",
            "step 4700: train loss 1.6834, val loss 1.8501\n",
            "step 4800: train loss 1.6675, val loss 1.8437\n",
            "step 4900: train loss 1.6684, val loss 1.8407\n",
            "step 4999: train loss 1.6645, val loss 1.8286\n"
          ]
        },
        {
          "output_type": "error",
          "ename": "AttributeError",
          "evalue": "'DataSet' object has no attribute 'decode'",
          "traceback": [
            "\u001b[0;31m---------------------------------------------------------------------------\u001b[0m",
            "\u001b[0;31mAttributeError\u001b[0m                            Traceback (most recent call last)",
            "\u001b[0;32m<ipython-input-10-01a5853633d5>\u001b[0m in \u001b[0;36m<cell line: 74>\u001b[0;34m()\u001b[0m\n\u001b[1;32m     72\u001b[0m \u001b[0;31m# 5. generate\u001b[0m\u001b[0;34m\u001b[0m\u001b[0;34m\u001b[0m\u001b[0m\n\u001b[1;32m     73\u001b[0m \u001b[0mcontext\u001b[0m \u001b[0;34m=\u001b[0m \u001b[0mtorch\u001b[0m\u001b[0;34m.\u001b[0m\u001b[0mzeros\u001b[0m\u001b[0;34m(\u001b[0m\u001b[0;34m(\u001b[0m\u001b[0;36m1\u001b[0m\u001b[0;34m,\u001b[0m \u001b[0;36m1\u001b[0m\u001b[0;34m)\u001b[0m\u001b[0;34m,\u001b[0m \u001b[0mdtype\u001b[0m\u001b[0;34m=\u001b[0m\u001b[0mtorch\u001b[0m\u001b[0;34m.\u001b[0m\u001b[0mlong\u001b[0m\u001b[0;34m,\u001b[0m \u001b[0mdevice\u001b[0m\u001b[0;34m=\u001b[0m\u001b[0mdevice\u001b[0m\u001b[0;34m)\u001b[0m\u001b[0;34m\u001b[0m\u001b[0;34m\u001b[0m\u001b[0m\n\u001b[0;32m---> 74\u001b[0;31m \u001b[0mprint\u001b[0m\u001b[0;34m(\u001b[0m\u001b[0mdataset\u001b[0m\u001b[0;34m.\u001b[0m\u001b[0mdecode\u001b[0m\u001b[0;34m(\u001b[0m\u001b[0mgpt\u001b[0m\u001b[0;34m.\u001b[0m\u001b[0mgenerate\u001b[0m\u001b[0;34m(\u001b[0m\u001b[0mcontext\u001b[0m\u001b[0;34m,\u001b[0m \u001b[0mmax_new_tokens\u001b[0m\u001b[0;34m=\u001b[0m\u001b[0;36m2000\u001b[0m\u001b[0;34m)\u001b[0m\u001b[0;34m[\u001b[0m\u001b[0;36m0\u001b[0m\u001b[0;34m]\u001b[0m\u001b[0;34m.\u001b[0m\u001b[0mtolist\u001b[0m\u001b[0;34m(\u001b[0m\u001b[0;34m)\u001b[0m\u001b[0;34m)\u001b[0m\u001b[0;34m)\u001b[0m\u001b[0;34m\u001b[0m\u001b[0;34m\u001b[0m\u001b[0m\n\u001b[0m",
            "\u001b[0;31mAttributeError\u001b[0m: 'DataSet' object has no attribute 'decode'"
          ]
        }
      ]
    },
    {
      "cell_type": "code",
      "source": [
        "# 6. generate\n",
        "dataset = DataSet()\n",
        "context = torch.zeros((1, 1), dtype=torch.long, device=device)\n",
        "print(dataset.decode(gpt.generate(context, max_new_tokens=2000)[0].tolist()))"
      ],
      "metadata": {
        "colab": {
          "base_uri": "https://localhost:8080/"
        },
        "id": "ACkIiKNZBs78",
        "outputId": "b22e2d6a-5e35-453f-eee0-7751f3717e6d"
      },
      "execution_count": 17,
      "outputs": [
        {
          "output_type": "stream",
          "name": "stdout",
          "text": [
            "\n",
            "\n",
            "KING RICHARD II:\n",
            "Shal lifest made to bub, to take Our my dagatants:\n",
            "Whith foul his vetward that a endrer, my fears' to zorm heavens,\n",
            "Oof it heart my would but\n",
            "With ensengmin latest in ov the doest not.\n",
            "\n",
            "WARWICK:\n",
            "Welll now, and thus quechiry: there's speak you love.\n",
            "In Bodiet, and whom the sclittle\n",
            "Enout-now what evily well most rive with is compon to the me\n",
            "Town danters, If so;\n",
            "Ange to shall do aleous, for dear?\n",
            "\n",
            "KING HENRY VI:\n",
            "Hark, but a\n",
            "ards bring Edward?\n",
            "\n",
            "GROKE:\n",
            "As is no Rurnts I am you! who neet.\n",
            "Pom mary thou contrantym so a thense.\n",
            "\n",
            "QUEEN VINCENTIO:\n",
            "O, sir, may in God't well ow, whom confessy.\n",
            "Which migh.\n",
            "\n",
            "ARCHILINIUS:\n",
            "Dithul seaze Peed me: very it passce of's cruport;\n",
            "How what make you fear tals: there loves\n",
            "Tunkistren in deed, is xment.\n",
            "\n",
            "CORIONIUS:\n",
            "What comforts me. I with self From the walt I?\n",
            "\n",
            "GRINION:\n",
            "Which ushold.\n",
            "\n",
            "KING HENRY Gindner:\n",
            "Withrief I doot, is onter now.\n",
            "\n",
            "Securming:\n",
            "Intande whose no crown some Eiverely marry sold;\n",
            "For for me watch the\n",
            "our torguet! Goy, know our her and brut what I, I huself as humsell.\n",
            "\n",
            "APTOLYCUM:\n",
            "Laitance and toarth or word\n",
            "As beherefitions so me worting.\n",
            "\n",
            "CORIOLINA:\n",
            "What a wouldds,\n",
            "An but branedy wouldIng my a canity:\n",
            "Was you be any in Becausing watcess the Regreast men is what see would in thas jury your Hrannertandless;\n",
            "As there'erliacter me band frind through he crown, I she love is stay just torment:\n",
            "Slaw you behoth unserving of vonby the post,\n",
            "Whave baste hold; I they nengety may's fries\n",
            "To there's fince, I heave arrow old,\n",
            "Thee best sincess soul be\n",
            "that Lord, as;\n",
            "River thou a-latsteer:\n",
            "Out.\n",
            "\n",
            "PORALLINA:\n",
            "Where but\n",
            "Braight gentle, drieven the know you\n",
            "for that to this mack a rishn. Prawity arm as is infectely,\n",
            "Ah, sinstats o' no, this send; commant to love,\n",
            "Go fly this fathal\n",
            "I cortuns cold, offrong to old, the courtly thee? before a gace.\n",
            "\n",
            "KING RICHARD III:\n",
            "A life he pusict\n",
            "It. Vitters, and were not fanturs, thy promind thy awonse than a braute comforn,\n",
            "Will Roman! you brain shown'd for a dresss me; he heavison!\n",
            "\n",
            "\n",
            "MENE\n"
          ]
        }
      ]
    }
  ]
}